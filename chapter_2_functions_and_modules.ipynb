{
    "cells": [
     {
      "cell_type": "markdown",
      "metadata": {},
      "source": [
       "# 函数与模块详解"
      ]
     },
     {
      "cell_type": "markdown",
      "metadata": {},
      "source": [
       "## 1. 函数定义与参数传递"
      ]
     },
     {
      "cell_type": "markdown",
      "metadata": {},
      "source": [
       "### 1.1 基本函数定义"
      ]
     },
     {
      "cell_type": "code",
      "execution_count": null,
      "metadata": {},
      "outputs": [],
      "source": [
       "# 定义一个计算面积的函数\n",
       "def calculate_area(width, height):\n",
       "    area = width * height\n",
       "    return area\n",
       "\n",
       "# 调用函数\n",
       "print(calculate_area(5, 3))  # 输出 15"
      ]
     },
     {
      "cell_type": "markdown",
      "metadata": {},
      "source": [
       "### 1.2 参数类型"
      ]
     },
     {
      "cell_type": "code",
      "execution_count": null,
      "metadata": {},
      "outputs": [],
      "source": [
       "# 位置参数\n",
       "def greet(name, message):\n",
       "    print(f\"{message}, {name}!\")\n",
       "\n",
       "greet(\"Alice\", \"Hello\")"
      ]
     },
     {
      "cell_type": "code",
      "execution_count": null,
      "metadata": {},
      "outputs": [],
      "source": [
       "# 关键字参数\n",
       "greet(message=\"Hi\", name=\"Bob\")"
      ]
     },
     {
      "cell_type": "code",
      "execution_count": null,
      "metadata": {},
      "outputs": [],
      "source": [
       "# 默认参数\n",
       "def greet(name, message=\"Hello\"):\n",
       "    print(f\"{message}, {name}!\")\n",
       "\n",
       "greet(\"Charlie\")"
      ]
     },
     {
      "cell_type": "code",
      "execution_count": null,
      "metadata": {},
      "outputs": [],
      "source": [
       "# 可变参数\n",
       "def sum_numbers(*args):\n",
       "    return sum(args)\n",
       "\n",
       "print(sum_numbers(1, 2, 3))  # 输出 6"
      ]
     },
     {
      "cell_type": "markdown",
      "metadata": {},
      "source": [
       "**练习1**：编写一个函数 `power(x, n=2)`，计算x的n次方，默认平方。"
      ]
     },
     {
      "cell_type": "code",
      "execution_count": null,
      "metadata": {},
      "outputs": [],
      "source": [
       "# 在此编写代码"
      ]
     },
     {
      "cell_type": "markdown",
      "metadata": {},
      "source": [
       "## 2. Lambda表达式与作用域"
      ]
     },
     {
      "cell_type": "code",
      "execution_count": null,
      "metadata": {},
      "outputs": [],
      "source": [
       "# 匿名函数示例\n",
       "square = lambda x: x ** 2\n",
       "print(square(4))  # 输出 16\n",
       "\n",
       "# 结合map使用\n",
       "numbers = [1, 2, 3]\n",
       "squared = list(map(lambda x: x**2, numbers))\n",
       "print(squared)  # [1, 4, 9]"
      ]
     },
     {
      "cell_type": "code",
      "execution_count": null,
      "metadata": {},
      "outputs": [],
      "source": [
       "# 作用域示例\n",
       "global_var = 10\n",
       "\n",
       "def test_scope():\n",
       "    local_var = 5\n",
       "    print(global_var + local_var)  # 可以访问全局变量\n",
       "\n",
       "test_scope()  # 输出 15\n",
       "# print(local_var)  # 报错！局部变量外部不可访问"
      ]
     },
     {
      "cell_type": "markdown",
      "metadata": {},
      "source": [
       "**练习2**：用lambda实现一个函数，判断数字是否大于10。"
      ]
     },
     {
      "cell_type": "code",
      "execution_count": null,
      "metadata": {},
      "outputs": [],
      "source": [
       "# 在此编写代码"
      ]
     },
     {
      "cell_type": "markdown",
      "metadata": {},
      "source": [
       "## 3. 模块与包管理"
      ]
     },
     {
      "cell_type": "markdown",
      "metadata": {},
      "source": [
       "### 3.1 自定义模块\n",
       "1. 创建文件 `my_utils.py`：\n",
       "```python\n",
       "def celsius_to_fahrenheit(c):\n",
       "    return c * 9/5 + 32\n",
       "\n",
       "def fahrenheit_to_celsius(f):\n",
       "    return (f - 32) * 5/9\n",
       "```"
      ]
     },
     {
      "cell_type": "code",
      "execution_count": null,
      "metadata": {},
      "outputs": [],
      "source": [
       "# 导入模块示例\n",
       "from my_utils import celsius_to_fahrenheit\n",
       "\n",
       "print(celsius_to_fahrenheit(25))  # 77.0"
      ]
     },
     {
      "cell_type": "markdown",
      "metadata": {},
      "source": [
       "### 3.2 第三方库安装\n",
       "```bash\n",
       "# 在终端运行\n",
       "pip install requests\n",
       "```"
      ]
     },
     {
      "cell_type": "markdown",
      "metadata": {},
      "source": [
       "**练习3**：创建一个模块 `geometry.py`，包含计算圆面积和周长的函数，并导入使用。"
      ]
     },
     {
      "cell_type": "code",
      "execution_count": null,
      "metadata": {},
      "outputs": [],
      "source": [
       "# geometry.py 内容：\n",
       "# def circle_area(radius):\n",
       "#     return 3.14 * radius ** 2\n",
       "# \n",
       "# def circle_circumference(radius):\n",
       "#     return 2 * 3.14 * radius\n",
       "\n",
       "# 在此导入模块并调用函数"
      ]
     },
     {
      "cell_type": "markdown",
      "metadata": {},
      "source": [
       "## 4. 闭包与装饰器（进阶）"
      ]
     },
     {
      "cell_type": "code",
      "execution_count": null,
      "metadata": {},
      "outputs": [],
      "source": [
       "# 闭包示例\n",
       "def outer_func(x):\n",
       "    def inner_func(y):\n",
       "        return x + y\n",
       "    return inner_func\n",
       "\n",
       "closure = outer_func(10)\n",
       "print(closure(5))  # 输出 15（10 + 5）"
      ]
     },
     {
      "cell_type": "code",
      "execution_count": null,
      "metadata": {},
      "outputs": [],
      "source": [
       "# 简单装饰器\n",
       "def timer_decorator(func):\n",
       "    def wrapper():\n",
       "        import time\n",
       "        start = time.time()\n",
       "        func()\n",
       "        print(f\"耗时: {time.time() - start:.2f}秒\")\n",
       "    return wrapper\n",
       "\n",
       "@timer_decorator\n",
       "def long_running_func():\n",
       "    for _ in range(1000000):\n",
       "        pass\n",
       "\n",
       "long_running_func()  # 输出执行时间"
      ]
     },
     {
      "cell_type": "markdown",
      "metadata": {},
      "source": [
       "**练习4**：编写一个装饰器，在函数执行前后打印\"Start\"和\"End\"。"
      ]
     },
     {
      "cell_type": "code",
      "execution_count": null,
      "metadata": {},
      "outputs": [],
      "source": [
       "# 在此编写装饰器代码"
      ]
     },
     {
      "cell_type": "markdown",
      "metadata": {},
      "source": [
       "## 5. 练习题答案"
      ]
     },
     {
      "cell_type": "markdown",
      "metadata": {},
      "source": [
       "### 练习1答案"
      ]
     },
     {
      "cell_type": "code",
      "execution_count": null,
      "metadata": {},
      "outputs": [],
      "source": [
       "def power(x, n=2):\n",
       "    return x ** n\n",
       "\n",
       "print(power(3))    # 9 (默认平方)\n",
       "print(power(2, 4)) # 16"
      ]
     },
     {
      "cell_type": "markdown",
      "metadata": {},
      "source": [
       "### 练习2答案"
      ]
     },
     {
      "cell_type": "code",
      "execution_count": null,
      "metadata": {},
      "outputs": [],
      "source": [
       "is_gt_10 = lambda x: x > 10\n",
       "print(is_gt_10(15))  # True\n",
       "print(is_gt_10(5))   # False"
      ]
     },
     {
      "cell_type": "markdown",
      "metadata": {},
      "source": [
       "### 练习3答案"
      ]
     },
     {
      "cell_type": "code",
      "execution_count": null,
      "metadata": {},
      "outputs": [],
      "source": [
       "# 导入模块示例\n",
       "from geometry import circle_area, circle_circumference\n",
       "\n",
       "print(circle_area(3))          # 28.26\n",
       "print(circle_circumference(3)) # 18.84"
      ]
     },
     {
      "cell_type": "markdown",
      "metadata": {},
      "source": [
       "### 练习4答案"
      ]
     },
     {
      "cell_type": "code",
      "execution_count": null,
      "metadata": {},
      "outputs": [],
      "source": [
       "def start_end_decorator(func):\n",
       "    def wrapper():\n",
       "        print(\"Start\")\n",
       "        func()\n",
       "        print(\"End\")\n",
       "    return wrapper\n",
       "\n",
       "@start_end_decorator\n",
       "def say_hello():\n",
       "    print(\"Hello!\")\n",
       "\n",
       "say_hello()\n",
       "# 输出:\n",
       "# Start\n",
       "# Hello!\n",
       "# End"
      ]
     },
     {
      "cell_type": "markdown",
      "metadata": {},
      "source": [
       "## 关键概念总结\n",
       "| 概念          | 说明                          | 示例                     |\n",
       "|---------------|-------------------------------|--------------------------|\n",
       "| 位置参数      | 按顺序传递的参数              | `func(a, b)`             |\n",
       "| 默认参数      | 参数有默认值                  | `def func(a=1)`          |\n",
       "| Lambda        | 匿名函数                      | `lambda x: x+1`          |\n",
       "| 模块导入      | 复用代码                      | `import math`            |\n",
       "| 装饰器        | 不修改原函数添加功能          | `@decorator`             |"
      ]
     }
    ],
    "metadata": {
     "kernelspec": {
      "display_name": "Python 3",
      "language": "python",
      "name": "python3"
     },
     "language_info": {
      "codemirror_mode": {
       "name": "ipython",
       "version": 3
      },
      "file_extension": ".py",
      "mimetype": "text/x-python",
      "name": "python",
      "nbconvert_exporter": "python",
      "pygments_lexer": "ipython3",
      "version": "3.8.5"
     }
    },
    "nbformat": 4,
    "nbformat_minor": 4
   }