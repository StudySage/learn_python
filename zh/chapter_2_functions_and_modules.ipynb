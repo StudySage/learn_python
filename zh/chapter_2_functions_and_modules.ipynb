{
    "cells": [
     {
      "cell_type": "markdown",
      "metadata": {},
      "source": [
       "# 函数与模块"
      ]
     },
     {
      "cell_type": "markdown",
      "metadata": {},
      "source": [
       "### 语法详细说明\n",
       "本笔记涵盖了 Python 中函数定义、参数传递、Lambda 表达式、作用域、模块与包管理、闭包与装饰器等内容。下面在每个部分中，我们会详细解释相关语法和用法。"
      ]
     },
     {
      "cell_type": "markdown",
      "metadata": {},
      "source": [
       "## 1. 函数定义与参数传递"
      ]
     },
     {
      "cell_type": "markdown",
      "metadata": {},
      "source": [
       "在 Python 中，函数通过 `def` 关键字定义。函数名后面紧跟参数列表（用括号括起来），接着是冒号，随后缩进部分为函数体。函数通过 `return` 语句返回计算结果。如果没有 `return` 语句，函数默认返回 `None`。\n",
       "\n",
       "此外，Python 支持多种参数传递方式，如位置参数、关键字参数、默认参数和可变参数。"
      ]
     },
     {
      "cell_type": "markdown",
      "metadata": {},
      "source": [
       "### 1.1 基本函数定义"
      ]
     },
     {
      "cell_type": "markdown",
      "metadata": {},
      "source": [
       "在下面的示例中，我们定义了一个 `calculate_area` 函数，用于计算矩形面积。该函数接收两个参数 `width` 和 `height`，通过乘法运算计算面积并返回。"
      ]
     },
     {
      "cell_type": "code",
      "execution_count": null,
      "metadata": {},
      "outputs": [],
      "source": [
       "# 定义一个计算面积的函数\n",
       "def calculate_area(width, height):\n",
       "    area = width * height\n",
       "    return area\n",
       "\n",
       "# 调用函数\n",
       "print(calculate_area(5, 3))  # 输出 15"
      ]
     },
     {
      "cell_type": "markdown",
      "metadata": {},
      "source": [
       "### 1.2 参数类型"
      ]
     },
     {
      "cell_type": "markdown",
      "metadata": {},
      "source": [
       "Python 支持多种参数传递方式：\n",
       "\n",
       "- **位置参数**：按顺序传递给函数，例如 `greet(\"Alice\", \"Hello\")`。\n",
       "- **关键字参数**：通过参数名传递，如 `greet(message=\"Hi\", name=\"Bob\")`，这样传递顺序可以任意。\n",
       "- **默认参数**：在函数定义时给参数设置默认值，例如 `def greet(name, message=\"Hello\")`，如果调用时不提供该参数，则使用默认值。\n",
       "- **可变参数**：使用 `*args`（或 `**kwargs` 用于关键字可变参数）收集额外的参数，如 `def sum_numbers(*args)`，函数内部可以将所有传入的额外参数当作元组处理。"
      ]
     },
     {
      "cell_type": "code",
      "execution_count": null,
      "metadata": {},
      "outputs": [],
      "source": [
       "# 位置参数\n",
       "def greet(name, message):\n",
       "    print(f\"{message}, {name}!\")\n",
       "\n",
       "greet(\"Alice\", \"Hello\")"
      ]
     },
     {
      "cell_type": "code",
      "execution_count": null,
      "metadata": {},
      "outputs": [],
      "source": [
       "# 关键字参数\n",
       "greet(message=\"Hi\", name=\"Bob\")"
      ]
     },
     {
      "cell_type": "code",
      "execution_count": null,
      "metadata": {},
      "outputs": [],
      "source": [
       "# 默认参数\n",
       "def greet(name, message=\"Hello\"):\n",
       "    print(f\"{message}, {name}!\")\n",
       "\n",
       "greet(\"Charlie\")"
      ]
     },
     {
      "cell_type": "code",
      "execution_count": null,
      "metadata": {},
      "outputs": [],
      "source": [
       "# 可变参数\n",
       "def sum_numbers(*args):\n",
       "    return sum(args)\n",
       "\n",
       "print(sum_numbers(1, 2, 3))  # 输出 6"
      ]
     },
     {
      "cell_type": "markdown",
      "metadata": {},
      "source": [
       "**练习1**：编写一个函数 `power(x, n=2)`，计算x的n次方，默认平方。"
      ]
     },
     {
      "cell_type": "code",
      "execution_count": null,
      "metadata": {},
      "outputs": [],
      "source": [
       "# 在此编写代码"
      ]
     },
     {
      "cell_type": "markdown",
      "metadata": {},
      "source": [
       "## 2. Lambda表达式与作用域"
      ]
     },
     {
      "cell_type": "markdown",
      "metadata": {},
      "source": [
       "Lambda 表达式是一种简洁的匿名函数定义方式，其基本语法为：\n",
       "\n",
       "```python\n",
       "lambda 参数: 表达式\n",
       "```\n",
       "\n",
       "例如，`square = lambda x: x ** 2` 定义了一个计算平方的函数。\n",
       "\n",
       "关于作用域：\n",
       "\n",
       "- **全局变量**：在函数外部定义，在整个模块中可见。\n",
       "- **局部变量**：在函数内部定义，只在函数内部有效。\n",
       "\n",
       "当函数内部需要访问全局变量时，直接使用即可；但在函数外部无法访问局部变量。"
      ]
     },
     {
      "cell_type": "code",
      "execution_count": null,
      "metadata": {},
      "outputs": [],
      "source": [
       "# 匿名函数示例\n",
       "square = lambda x: x ** 2\n",
       "print(square(4))  # 输出 16\n",
       "\n",
       "# 结合map使用\n",
       "numbers = [1, 2, 3]\n",
       "squared = list(map(lambda x: x**2, numbers))\n",
       "print(squared)  # [1, 4, 9]"
      ]
     },
     {
      "cell_type": "code",
      "execution_count": null,
      "metadata": {},
      "outputs": [],
      "source": [
       "# 作用域示例\n",
       "global_var = 10\n",
       "\n",
       "def test_scope():\n",
       "    local_var = 5\n",
       "    print(global_var + local_var)  # 可以访问全局变量\n",
       "\n",
       "test_scope()  # 输出 15\n",
       "# print(local_var)  # 报错！局部变量外部不可访问"
      ]
     },
     {
      "cell_type": "markdown",
      "metadata": {},
      "source": [
       "**练习2**：用lambda实现一个函数，判断数字是否大于10。"
      ]
     },
     {
      "cell_type": "code",
      "execution_count": null,
      "metadata": {},
      "outputs": [],
      "source": [
       "# 在此编写代码"
      ]
     },
     {
      "cell_type": "markdown",
      "metadata": {},
      "source": [
       "## 3. 模块与包管理"
      ]
     },
     {
      "cell_type": "markdown",
      "metadata": {},
      "source": [
       "模块与包管理使得我们可以将代码分散到不同的文件中，方便代码的重用和组织。模块就是一个 Python 文件，而包则是包含一个 `__init__.py` 文件的文件夹。\n",
       "\n",
       "常用的导入方式有：\n",
       "\n",
       "- `import module_name`\n",
       "- `from module_name import function_name`"
      ]
     },
     {
      "cell_type": "markdown",
      "metadata": {},
      "source": [
       "### 3.1 自定义模块"
      ]
     },
     {
      "cell_type": "markdown",
      "metadata": {},
      "source": [
       "在自定义模块示例中，我们在文件 `my_utils.py` 中定义了两个温度转换函数。\n",
       "\n",
       "使用 `from my_utils import celsius_to_fahrenheit` 可直接导入模块中定义的函数，从而在当前脚本中调用。"
      ]
     },
     {
      "cell_type": "code",
      "execution_count": null,
      "metadata": {},
      "outputs": [],
      "source": [
       "# 导入模块示例\n",
       "from my_utils import celsius_to_fahrenheit\n",
       "\n",
       "print(celsius_to_fahrenheit(25))  # 77.0"
      ]
     },
     {
      "cell_type": "markdown",
      "metadata": {},
      "source": [
       "### 3.2 第三方库安装"
      ]
     },
     {
      "cell_type": "markdown",
      "metadata": {},
      "source": [
       "第三方库可以通过 `pip` 进行安装，例如下面的命令会安装 `requests` 库：\n",
       "\n",
       "```bash\n",
       "pip install requests\n",
       "```"
      ]
     },
     {
      "cell_type": "markdown",
      "metadata": {},
      "source": [
       "**练习3**：创建一个模块 `geometry.py`，包含计算圆面积和周长的函数，并导入使用。"
      ]
     },
     {
      "cell_type": "code",
      "execution_count": null,
      "metadata": {},
      "outputs": [],
      "source": [
       "# geometry.py 内容：\n",
       "# def circle_area(radius):\n",
       "#     return 3.14 * radius ** 2\n",
       "# \n",
       "# def circle_circumference(radius):\n",
       "#     return 2 * 3.14 * radius\n",
       "\n",
       "# 在此导入模块并调用函数"
      ]
     },
     {
      "cell_type": "markdown",
      "metadata": {},
      "source": [
       "## 4. 闭包与装饰器（进阶）"
      ]
     },
     {
      "cell_type": "markdown",
      "metadata": {},
      "source": [
       "### 闭包\n",
       "闭包是指一个内部函数能够记住并访问其外部函数作用域中的变量，即使外部函数已经执行完毕。闭包常用于数据隐藏和状态保持。\n",
       "\n",
       "### 装饰器\n",
       "装饰器是一种高级函数，用于在不修改原函数代码的情况下，为函数增加额外功能。装饰器接收一个函数作为参数，并返回一个经过包装的新函数。"
      ]
     },
     {
      "cell_type": "code",
      "execution_count": null,
      "metadata": {},
      "outputs": [],
      "source": [
       "# 闭包示例\n",
       "def outer_func(x):\n",
       "    def inner_func(y):\n",
       "        return x + y\n",
       "    return inner_func\n",
       "\n",
       "closure = outer_func(10)\n",
       "print(closure(5))  # 输出 15（10 + 5）"
      ]
     },
     {
      "cell_type": "code",
      "execution_count": null,
      "metadata": {},
      "outputs": [],
      "source": [
       "# 简单装饰器\n",
       "def timer_decorator(func):\n",
       "    def wrapper():\n",
       "        import time\n",
       "        start = time.time()\n",
       "        func()\n",
       "        print(f\"耗时: {time.time() - start:.2f}秒\")\n",
       "    return wrapper\n",
       "\n",
       "@timer_decorator\n",
       "def long_running_func():\n",
       "    for _ in range(1000000):\n",
       "        pass\n",
       "\n",
       "long_running_func()  # 输出执行时间"
      ]
     },
     {
      "cell_type": "markdown",
      "metadata": {},
      "source": [
       "**练习4**：编写一个装饰器，在函数执行前后打印\"Start\"和\"End\"。"
      ]
     },
     {
      "cell_type": "code",
      "execution_count": null,
      "metadata": {},
      "outputs": [],
      "source": [
       "# 在此编写装饰器代码"
      ]
     },
     {
      "cell_type": "markdown",
      "metadata": {},
      "source": [
       "## 5. 练习题答案\n",
       "\n",
       "以下部分展示了前面练习题的参考答案，通过这些代码可以帮助理解各个语法点的实际应用。"
      ]
     },
     {
      "cell_type": "markdown",
      "metadata": {},
      "source": [
       "### 练习1答案"
      ]
     },
     {
      "cell_type": "markdown",
      "metadata": {},
      "source": [
       "此答案展示了如何定义一个带有默认参数的函数 `power`，用于计算 x 的 n 次方。如果不传递 n，则默认计算平方。"
      ]
     },
     {
      "cell_type": "code",
      "execution_count": null,
      "metadata": {},
      "outputs": [],
      "source": [
       "def power(x, n=2):\n",
       "    return x ** n\n",
       "\n",
       "print(power(3))    # 9 (默认平方)\n",
       "print(power(2, 4)) # 16"
      ]
     },
     {
      "cell_type": "markdown",
      "metadata": {},
      "source": [
       "### 练习2答案"
      ]
     },
     {
      "cell_type": "markdown",
      "metadata": {},
      "source": [
       "此答案使用 Lambda 表达式定义了一个匿名函数 `is_gt_10`，用于判断一个数字是否大于 10。"
      ]
     },
     {
      "cell_type": "code",
      "execution_count": null,
      "metadata": {},
      "outputs": [],
      "source": [
       "is_gt_10 = lambda x: x > 10\n",
       "print(is_gt_10(15))  # True\n",
       "print(is_gt_10(5))   # False"
      ]
     },
     {
      "cell_type": "markdown",
      "metadata": {},
      "source": [
       "### 练习3答案"
      ]
     },
     {
      "cell_type": "markdown",
      "metadata": {},
      "source": [
       "此答案展示了如何导入自定义模块 `geometry`，并调用其中定义的 `circle_area` 和 `circle_circumference` 函数来计算圆的面积和周长。"
      ]
     },
     {
      "cell_type": "code",
      "execution_count": null,
      "metadata": {},
      "outputs": [],
      "source": [
       "# 导入模块示例\n",
       "from geometry import circle_area, circle_circumference\n",
       "\n",
       "print(circle_area(3))          # 28.26\n",
       "print(circle_circumference(3)) # 18.84"
      ]
     },
     {
      "cell_type": "markdown",
      "metadata": {},
      "source": [
       "### 练习4答案"
      ]
     },
     {
      "cell_type": "markdown",
      "metadata": {},
      "source": [
       "此答案展示了如何编写一个装饰器 `start_end_decorator`，该装饰器在原函数执行前打印 `Start`，执行后打印 `End`，从而在不修改原函数代码的情况下添加额外功能。"
      ]
     },
     {
      "cell_type": "code",
      "execution_count": null,
      "metadata": {},
      "outputs": [],
      "source": [
       "def start_end_decorator(func):\n",
       "    def wrapper():\n",
       "        print(\"Start\")\n",
       "        func()\n",
       "        print(\"End\")\n",
       "    return wrapper\n",
       "\n",
       "@start_end_decorator\n",
       "def say_hello():\n",
       "    print(\"Hello!\")\n",
       "\n",
       "say_hello()\n",
       "# 输出:\n",
       "# Start\n",
       "# Hello!\n",
       "# End"
      ]
     },
     {
      "cell_type": "markdown",
      "metadata": {},
      "source": [
       "## 关键概念总结"
      ]
     },
     {
      "cell_type": "markdown",
      "metadata": {},
      "source": [
       "下面的表格总结了本文介绍的主要概念及其语法要点，每个概念对应不同的语法和使用场景："
      ]
     },
     {
      "cell_type": "markdown",
      "metadata": {},
      "source": [
       "| 概念          | 说明                          | 示例                     |\n",
       "|---------------|-------------------------------|--------------------------|\n",
       "| 位置参数      | 按顺序传递的参数              | `func(a, b)`             |\n",
       "| 默认参数      | 参数有默认值                  | `def func(a=1)`          |\n",
       "| Lambda        | 匿名函数，简化函数定义         | `lambda x: x+1`          |\n",
       "| 模块导入      | 复用代码                      | `import math`            |\n",
       "| 装饰器        | 不修改原函数添加功能          | `@decorator`             |"
      ]
     }
    ],
    "metadata": {
     "kernelspec": {
      "display_name": "Python 3",
      "language": "python",
      "name": "python3"
     },
     "language_info": {
      "codemirror_mode": {
       "name": "ipython",
       "version": 3
      },
      "file_extension": ".py",
      "mimetype": "text/x-python",
      "name": "python",
      "nbconvert_exporter": "python",
      "pygments_lexer": "ipython3",
      "version": "3.8.5"
     }
    },
    "nbformat": 4,
    "nbformat_minor": 4
   }
   