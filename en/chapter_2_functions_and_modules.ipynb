{
    "cells": [
      {
        "cell_type": "markdown",
        "metadata": {},
        "source": [
          "# Functions and Modules"
        ]
      },
      {
        "cell_type": "markdown",
        "metadata": {},
        "source": [
          "### Detailed Syntax Explanation\n",
          "This notebook covers function definitions, parameter passing, lambda expressions, scopes, module and package management, closures and decorators in Python. In each section below, we will explain the related syntax and usage in detail."
        ]
      },
      {
        "cell_type": "markdown",
        "metadata": {},
        "source": [
          "## 1. Function Definition and Parameter Passing"
        ]
      },
      {
        "cell_type": "markdown",
        "metadata": {},
        "source": [
          "In Python, functions are defined using the `def` keyword. The function name is followed immediately by a parameter list (enclosed in parentheses), then a colon, and the indented block that follows is the function body. The function returns a result using the `return` statement. If there is no `return` statement, the function returns `None` by default.\n",
          "\n",
          "Additionally, Python supports various ways to pass parameters, such as positional parameters, keyword parameters, default parameters, and variable-length parameters."
        ]
      },
      {
        "cell_type": "markdown",
        "metadata": {},
        "source": [
          "### 1.1 Basic Function Definition"
        ]
      },
      {
        "cell_type": "markdown",
        "metadata": {},
        "source": [
          "In the example below, we define a function `calculate_area` that calculates the area of a rectangle. The function takes two parameters `width` and `height`, calculates the area by multiplying them, and returns the result."
        ]
      },
      {
        "cell_type": "code",
        "execution_count": null,
        "metadata": {},
        "outputs": [],
        "source": [
          "# Define a function to calculate the area\n",
          "def calculate_area(width, height):\n",
          "    area = width * height\n",
          "    return area\n",
          "\n",
          "# Call the function\n",
          "print(calculate_area(5, 3))  # Output 15"
        ]
      },
      {
        "cell_type": "markdown",
        "metadata": {},
        "source": [
          "### 1.2 Parameter Types"
        ]
      },
      {
        "cell_type": "markdown",
        "metadata": {},
        "source": [
          "Python supports various methods of parameter passing:\n",
          "\n",
          "- **Positional parameters**: Passed in order, for example, `greet(\"Alice\", \"Hello\")`.\n",
          "- **Keyword parameters**: Passed by parameter name, such as `greet(message=\"Hi\", name=\"Bob\")`, allowing any order of arguments.\n",
          "- **Default parameters**: Default values are set in the function definition, for example, `def greet(name, message=\"Hello\")`. If the parameter is not provided when called, the default value is used.\n",
          "- **Variable-length parameters**: Use `*args` (or `**kwargs` for keyword variable parameters) to collect additional arguments. For example, `def sum_numbers(*args)` allows all extra arguments to be handled as a tuple within the function."
        ]
      },
      {
        "cell_type": "code",
        "execution_count": null,
        "metadata": {},
        "outputs": [],
        "source": [
          "# Positional parameters\n",
          "def greet(name, message):\n",
          "    print(f\"{message}, {name}!\")\n",
          "\n",
          "greet(\"Alice\", \"Hello\")"
        ]
      },
      {
        "cell_type": "code",
        "execution_count": null,
        "metadata": {},
        "outputs": [],
        "source": [
          "# Keyword parameters\n",
          "greet(message=\"Hi\", name=\"Bob\")"
        ]
      },
      {
        "cell_type": "code",
        "execution_count": null,
        "metadata": {},
        "outputs": [],
        "source": [
          "# Default parameters\n",
          "def greet(name, message=\"Hello\"):\n",
          "    print(f\"{message}, {name}!\")\n",
          "\n",
          "greet(\"Charlie\")"
        ]
      },
      {
        "cell_type": "code",
        "execution_count": null,
        "metadata": {},
        "outputs": [],
        "source": [
          "# Variable-length parameters\n",
          "def sum_numbers(*args):\n",
          "    return sum(args)\n",
          "\n",
          "print(sum_numbers(1, 2, 3))  # Output 6"
        ]
      },
      {
        "cell_type": "markdown",
        "metadata": {},
        "source": [
          "**Exercise 1**: Write a function `power(x, n=2)` that computes x raised to the power of n, defaulting to squaring if n is not provided."
        ]
      },
      {
        "cell_type": "code",
        "execution_count": null,
        "metadata": {},
        "outputs": [],
        "source": [
          "# Write your code here"
        ]
      },
      {
        "cell_type": "markdown",
        "metadata": {},
        "source": [
          "## 2. Lambda Expressions and Scope"
        ]
      },
      {
        "cell_type": "markdown",
        "metadata": {},
        "source": [
          "Lambda expressions provide a concise way to define anonymous functions. The basic syntax is:\n",
          "\n",
          "```python\n",
          "lambda parameters: expression\n",
          "```\n",
          "\n",
          "For example, `square = lambda x: x ** 2` defines a function that computes the square of a number.\n",
          "\n",
          "Regarding scope:\n",
          "\n",
          "- **Global variables**: Defined outside functions and accessible throughout the module.\n",
          "- **Local variables**: Defined inside a function and only accessible within that function.\n",
          "\n",
          "When a function needs to access a global variable, it can use it directly; however, local variables cannot be accessed outside their function."
        ]
      },
      {
        "cell_type": "code",
        "execution_count": null,
        "metadata": {},
        "outputs": [],
        "source": [
          "# Anonymous function example\n",
          "square = lambda x: x ** 2\n",
          "print(square(4))  # Output 16\n",
          "\n",
          "# Using map with a lambda\n",
          "numbers = [1, 2, 3]\n",
          "squared = list(map(lambda x: x**2, numbers))\n",
          "print(squared)  # [1, 4, 9]"
        ]
      },
      {
        "cell_type": "code",
        "execution_count": null,
        "metadata": {},
        "outputs": [],
        "source": [
          "# Scope example\n",
          "global_var = 10\n",
          "\n",
          "def test_scope():\n",
          "    local_var = 5\n",
          "    print(global_var + local_var)  # Can access the global variable\n",
          "\n",
          "test_scope()  # Output 15\n",
          "# print(local_var)  # Error! Local variable is not accessible outside its function"
        ]
      },
      {
        "cell_type": "markdown",
        "metadata": {},
        "source": [
          "**Exercise 2**: Use a lambda expression to implement a function that determines whether a number is greater than 10."
        ]
      },
      {
        "cell_type": "code",
        "execution_count": null,
        "metadata": {},
        "outputs": [],
        "source": [
          "# Write your code here"
        ]
      },
      {
        "cell_type": "markdown",
        "metadata": {},
        "source": [
          "## 3. Module and Package Management"
        ]
      },
      {
        "cell_type": "markdown",
        "metadata": {},
        "source": [
          "Module and package management allows us to split code into different files for better reuse and organization. A module is a Python file, while a package is a folder that contains an `__init__.py` file.\n",
          "\n",
          "Common import methods include:\n",
          "\n",
          "- `import module_name`\n",
          "- `from module_name import function_name`"
        ]
      },
      {
        "cell_type": "markdown",
        "metadata": {},
        "source": [
          "### 3.1 Custom Modules"
        ]
      },
      {
        "cell_type": "markdown",
        "metadata": {},
        "source": [
          "In the custom module example, we defined two temperature conversion functions in the file `my_utils.py`.\n",
          "\n",
          "Using `from my_utils import celsius_to_fahrenheit` directly imports the function defined in the module, allowing it to be called in the current script."
        ]
      },
      {
        "cell_type": "code",
        "execution_count": null,
        "metadata": {},
        "outputs": [],
        "source": [
          "# Import module example\n",
          "from my_utils import celsius_to_fahrenheit\n",
          "\n",
          "print(celsius_to_fahrenheit(25))  # 77.0"
        ]
      },
      {
        "cell_type": "markdown",
        "metadata": {},
        "source": [
          "### 3.2 Installing Third-Party Libraries"
        ]
      },
      {
        "cell_type": "markdown",
        "metadata": {},
        "source": [
          "Third-party libraries can be installed via `pip`. For example, the following command installs the `requests` library:\n",
          "\n",
          "```bash\n",
          "pip install requests\n",
          "```"
        ]
      },
      {
        "cell_type": "markdown",
        "metadata": {},
        "source": [
          "**Exercise 3**: Create a module `geometry.py` that contains functions to calculate the area and circumference of a circle, and then import and use it."
        ]
      },
      {
        "cell_type": "code",
        "execution_count": null,
        "metadata": {},
        "outputs": [],
        "source": [
          "# Content of geometry.py:\n",
          "# def circle_area(radius):\n",
          "#     return 3.14 * radius ** 2\n",
          "# \n",
          "# def circle_circumference(radius):\n",
          "#     return 2 * 3.14 * radius\n",
          "\n",
          "# Import the module here and call the functions"
        ]
      },
      {
        "cell_type": "markdown",
        "metadata": {},
        "source": [
          "## 4. Closures and Decorators (Advanced)"
        ]
      },
      {
        "cell_type": "markdown",
        "metadata": {},
        "source": [
          "### Closures\n",
          "A closure is when an inner function remembers and accesses variables in its enclosing function’s scope even after the outer function has finished executing. Closures are often used for data hiding and maintaining state.\n",
          "\n",
          "### Decorators\n",
          "A decorator is an advanced function used to add extra functionality to a function without modifying its original code. A decorator takes a function as an argument and returns a new function that wraps the original one."
        ]
      },
      {
        "cell_type": "code",
        "execution_count": null,
        "metadata": {},
        "outputs": [],
        "source": [
          "# Closure example\n",
          "def outer_func(x):\n",
          "    def inner_func(y):\n",
          "        return x + y\n",
          "    return inner_func\n",
          "\n",
          "closure = outer_func(10)\n",
          "print(closure(5))  # Output 15 (10 + 5)"
        ]
      },
      {
        "cell_type": "code",
        "execution_count": null,
        "metadata": {},
        "outputs": [],
        "source": [
          "# Simple decorator\n",
          "def timer_decorator(func):\n",
          "    def wrapper():\n",
          "        import time\n",
          "        start = time.time()\n",
          "        func()\n",
          "        print(f\"Time taken: {time.time() - start:.2f} seconds\")\n",
          "    return wrapper\n",
          "\n",
          "@timer_decorator\n",
          "def long_running_func():\n",
          "    for _ in range(1000000):\n",
          "        pass\n",
          "\n",
          "long_running_func()  # Outputs the execution time"
        ]
      },
      {
        "cell_type": "markdown",
        "metadata": {},
        "source": [
          "**Exercise 4**: Write a decorator that prints \"Start\" before the function executes and \"End\" after it finishes."
        ]
      },
      {
        "cell_type": "code",
        "execution_count": null,
        "metadata": {},
        "outputs": [],
        "source": [
          "# Write your decorator code here"
        ]
      },
      {
        "cell_type": "markdown",
        "metadata": {},
        "source": [
          "## 5. Answers to Exercises\n",
          "\n",
          "The following section shows reference answers to the previous exercises. These code examples help to understand the practical applications of the various syntax points."
        ]
      },
      {
        "cell_type": "markdown",
        "metadata": {},
        "source": [
          "### Answer to Exercise 1"
        ]
      },
      {
        "cell_type": "markdown",
        "metadata": {},
        "source": [
          "This answer shows how to define a function `power` with a default parameter to compute x raised to the power of n. If n is not provided, it defaults to squaring."
        ]
      },
      {
        "cell_type": "code",
        "execution_count": null,
        "metadata": {},
        "outputs": [],
        "source": [
          "def power(x, n=2):\n",
          "    return x ** n\n",
          "\n",
          "print(power(3))    # 9 (default is square)\n",
          "print(power(2, 4)) # 16"
        ]
      },
      {
        "cell_type": "markdown",
        "metadata": {},
        "source": [
          "### Answer to Exercise 2"
        ]
      },
      {
        "cell_type": "markdown",
        "metadata": {},
        "source": [
          "This answer uses a lambda expression to define an anonymous function `is_gt_10` to determine whether a number is greater than 10."
        ]
      },
      {
        "cell_type": "code",
        "execution_count": null,
        "metadata": {},
        "outputs": [],
        "source": [
          "is_gt_10 = lambda x: x > 10\n",
          "print(is_gt_10(15))  # True\n",
          "print(is_gt_10(5))   # False"
        ]
      },
      {
        "cell_type": "markdown",
        "metadata": {},
        "source": [
          "### Answer to Exercise 3"
        ]
      },
      {
        "cell_type": "markdown",
        "metadata": {},
        "source": [
          "This answer shows how to import the custom module `geometry` and call the `circle_area` and `circle_circumference` functions defined within it to calculate the area and circumference of a circle."
        ]
      },
      {
        "cell_type": "code",
        "execution_count": null,
        "metadata": {},
        "outputs": [],
        "source": [
          "# Import module example\n",
          "from geometry import circle_area, circle_circumference\n",
          "\n",
          "print(circle_area(3))          # 28.26\n",
          "print(circle_circumference(3))   # 18.84"
        ]
      },
      {
        "cell_type": "markdown",
        "metadata": {},
        "source": [
          "### Answer to Exercise 4"
        ]
      },
      {
        "cell_type": "markdown",
        "metadata": {},
        "source": [
          "This answer shows how to write a decorator `start_end_decorator` that prints `Start` before the original function executes and `End` afterwards, thereby adding extra functionality without modifying the original function's code."
        ]
      },
      {
        "cell_type": "code",
        "execution_count": null,
        "metadata": {},
        "outputs": [],
        "source": [
          "def start_end_decorator(func):\n",
          "    def wrapper():\n",
          "        print(\"Start\")\n",
          "        func()\n",
          "        print(\"End\")\n",
          "    return wrapper\n",
          "\n",
          "@start_end_decorator\n",
          "def say_hello():\n",
          "    print(\"Hello!\")\n",
          "\n",
          "say_hello()\n",
          "# Output:\n",
          "# Start\n",
          "# Hello!\n",
          "# End"
        ]
      },
      {
        "cell_type": "markdown",
        "metadata": {},
        "source": [
          "## Key Concepts Summary"
        ]
      },
      {
        "cell_type": "markdown",
        "metadata": {},
        "source": [
          "The table below summarizes the main concepts introduced in this document along with their syntax points and usage scenarios:"
        ]
      },
      {
        "cell_type": "markdown",
        "metadata": {},
        "source": [
          "| Concept         | Description                      | Example                  |\n",
          "|-----------------|----------------------------------|--------------------------|\n",
          "| Positional      | Parameters passed by order       | `func(a, b)`             |\n",
          "| Default         | Parameters with default values   | `def func(a=1)`          |\n",
          "| Lambda          | Anonymous function for concise definitions | `lambda x: x+1`          |\n",
          "| Module Import   | Code reuse                       | `import math`            |\n",
          "| Decorator       | Add functionality without modifying the original function | `@decorator`             |"
        ]
      }
    ],
    "metadata": {
      "kernelspec": {
        "display_name": "Python 3",
        "language": "python",
        "name": "python3"
      },
      "language_info": {
        "codemirror_mode": {
          "name": "ipython",
          "version": 3
        },
        "file_extension": ".py",
        "mimetype": "text/x-python",
        "name": "python",
        "nbconvert_exporter": "python",
        "pygments_lexer": "ipython3",
        "version": "3.8.5"
      }
    },
    "nbformat": 4,
    "nbformat_minor": 4
  }
  